{
 "cells": [
  {
   "cell_type": "code",
   "execution_count": 1,
   "id": "be7b5fba-039d-4d35-9f8b-fc28e4b58348",
   "metadata": {},
   "outputs": [],
   "source": [
    "a = [10,20,30,40,50,60,70]"
   ]
  },
  {
   "cell_type": "code",
   "execution_count": 2,
   "id": "a539ecaf-bf1e-47a3-8936-394ee12fdb1b",
   "metadata": {},
   "outputs": [
    {
     "data": {
      "text/plain": [
       "[10, 20, 30, 40, 50, 60, 70]"
      ]
     },
     "execution_count": 2,
     "metadata": {},
     "output_type": "execute_result"
    }
   ],
   "source": [
    "a[0::]"
   ]
  },
  {
   "cell_type": "code",
   "execution_count": 3,
   "id": "3ad374ab-eedd-464e-a42f-c0847a7b24e7",
   "metadata": {},
   "outputs": [
    {
     "data": {
      "text/plain": [
       "[30, 40, 50, 60, 70]"
      ]
     },
     "execution_count": 3,
     "metadata": {},
     "output_type": "execute_result"
    }
   ],
   "source": [
    "a[2:7]"
   ]
  },
  {
   "cell_type": "code",
   "execution_count": 4,
   "id": "0eb09e39-7f1f-4aad-9dcd-9546be966309",
   "metadata": {},
   "outputs": [
    {
     "data": {
      "text/plain": [
       "[60, 70]"
      ]
     },
     "execution_count": 4,
     "metadata": {},
     "output_type": "execute_result"
    }
   ],
   "source": [
    "a[5:7:1]"
   ]
  },
  {
   "cell_type": "code",
   "execution_count": 5,
   "id": "d9538f8d-c3db-40bc-90f8-534527dc56b8",
   "metadata": {},
   "outputs": [],
   "source": [
    "#before first collen it tells the starting point after the first collen tells the ending point of the initalization and after the second collen it tells about the jumps that how many jumps we have to take will initialization"
   ]
  },
  {
   "cell_type": "code",
   "execution_count": 6,
   "id": "e1db09a8-e06d-47dc-9116-a5000a9d99bc",
   "metadata": {},
   "outputs": [
    {
     "data": {
      "text/plain": [
       "[20, 50]"
      ]
     },
     "execution_count": 6,
     "metadata": {},
     "output_type": "execute_result"
    }
   ],
   "source": [
    "a[1::3]"
   ]
  },
  {
   "cell_type": "code",
   "execution_count": 7,
   "id": "387e28f3-04b6-494e-9966-ace02b0765f7",
   "metadata": {},
   "outputs": [
    {
     "data": {
      "text/plain": [
       "[70, 60, 50, 40, 30, 20, 10]"
      ]
     },
     "execution_count": 7,
     "metadata": {},
     "output_type": "execute_result"
    }
   ],
   "source": [
    "a[-1::-1]\n",
    "#this is the way though which we can print the reverse of the list"
   ]
  },
  {
   "cell_type": "code",
   "execution_count": 8,
   "id": "b9666600-1ca2-46be-b16b-da5dd5d33305",
   "metadata": {},
   "outputs": [
    {
     "data": {
      "text/plain": [
       "[]"
      ]
     },
     "execution_count": 8,
     "metadata": {},
     "output_type": "execute_result"
    }
   ],
   "source": [
    "a[-2:-8:2]"
   ]
  },
  {
   "cell_type": "code",
   "execution_count": 9,
   "id": "f251b53b-904d-45a3-b339-3f9fd68477e3",
   "metadata": {},
   "outputs": [
    {
     "data": {
      "text/plain": [
       "[60, 40, 20]"
      ]
     },
     "execution_count": 9,
     "metadata": {},
     "output_type": "execute_result"
    }
   ],
   "source": [
    "a[-2:-8:-2]"
   ]
  },
  {
   "cell_type": "code",
   "execution_count": 10,
   "id": "76e814e3-4740-47b3-a1f3-03cf18efc861",
   "metadata": {},
   "outputs": [
    {
     "data": {
      "text/plain": [
       "[60, 40, 20]"
      ]
     },
     "execution_count": 10,
     "metadata": {},
     "output_type": "execute_result"
    }
   ],
   "source": [
    "a[-2::-2]"
   ]
  },
  {
   "cell_type": "code",
   "execution_count": null,
   "id": "b7506527-359f-4085-a9a7-f58aec3ca0e3",
   "metadata": {},
   "outputs": [],
   "source": []
  }
 ],
 "metadata": {
  "kernelspec": {
   "display_name": "Python 3 (ipykernel)",
   "language": "python",
   "name": "python3"
  },
  "language_info": {
   "codemirror_mode": {
    "name": "ipython",
    "version": 3
   },
   "file_extension": ".py",
   "mimetype": "text/x-python",
   "name": "python",
   "nbconvert_exporter": "python",
   "pygments_lexer": "ipython3",
   "version": "3.12.3"
  }
 },
 "nbformat": 4,
 "nbformat_minor": 5
}
