{
 "cells": [
  {
   "cell_type": "code",
   "execution_count": 5,
   "id": "7d9cce9c-f655-47ab-a27e-e060509dab17",
   "metadata": {},
   "outputs": [],
   "source": [
    "def fun():\n",
    "    print(\"hello world\")\n"
   ]
  },
  {
   "cell_type": "code",
   "execution_count": 6,
   "id": "1e37da86-9394-45ed-984d-f55272a1bbdc",
   "metadata": {},
   "outputs": [
    {
     "name": "stdout",
     "output_type": "stream",
     "text": [
      "hello world\n"
     ]
    }
   ],
   "source": [
    "fun()"
   ]
  },
  {
   "cell_type": "code",
   "execution_count": 7,
   "id": "525b7a5e-adf2-4ed5-9d37-1a9c34f7ba85",
   "metadata": {},
   "outputs": [
    {
     "name": "stdout",
     "output_type": "stream",
     "text": [
      "hello world\n"
     ]
    }
   ],
   "source": [
    "a = fun()"
   ]
  },
  {
   "cell_type": "code",
   "execution_count": 8,
   "id": "ef59df77-3549-42a2-849b-10c3a47de5a1",
   "metadata": {},
   "outputs": [],
   "source": [
    "# if returntype is not there then function will return none "
   ]
  },
  {
   "cell_type": "code",
   "execution_count": 9,
   "id": "934dbdd7-bdcd-4a23-804a-185ad322b5b2",
   "metadata": {},
   "outputs": [],
   "source": [
    "def ff():\n",
    "    return 4\n",
    "    "
   ]
  },
  {
   "cell_type": "code",
   "execution_count": 10,
   "id": "780a9921-8a8a-4bf3-a1ba-aa54a7a4f0bf",
   "metadata": {},
   "outputs": [],
   "source": [
    "a= ff()"
   ]
  },
  {
   "cell_type": "code",
   "execution_count": 11,
   "id": "c1e2363f-811b-4e03-9f3b-d50ffc76bac0",
   "metadata": {},
   "outputs": [
    {
     "data": {
      "text/plain": [
       "4"
      ]
     },
     "execution_count": 11,
     "metadata": {},
     "output_type": "execute_result"
    }
   ],
   "source": [
    "a"
   ]
  },
  {
   "cell_type": "code",
   "execution_count": 12,
   "id": "f6f39c3e-0765-4707-a5fc-3806136a2e6e",
   "metadata": {},
   "outputs": [],
   "source": [
    "# adding 2 numbers"
   ]
  },
  {
   "cell_type": "code",
   "execution_count": 13,
   "id": "4a7d787d-479c-4b2f-aa3a-d863aba927bb",
   "metadata": {},
   "outputs": [],
   "source": [
    "def add(a,b):\n",
    "    sum = a + b\n",
    "    return sum"
   ]
  },
  {
   "cell_type": "code",
   "execution_count": 15,
   "id": "4b69b8f4-65aa-4ae5-9ccc-4c994597350e",
   "metadata": {},
   "outputs": [
    {
     "data": {
      "text/plain": [
       "9"
      ]
     },
     "execution_count": 15,
     "metadata": {},
     "output_type": "execute_result"
    }
   ],
   "source": [
    "ans = add(4,5)\n",
    "ans"
   ]
  },
  {
   "cell_type": "code",
   "execution_count": 16,
   "id": "88ac3745-4ba9-438f-82c5-96d6f00e2af0",
   "metadata": {},
   "outputs": [],
   "source": [
    "c = add #now c will also act as a add function"
   ]
  },
  {
   "cell_type": "code",
   "execution_count": 18,
   "id": "cb957d2f-50b1-40d6-9bdd-ba3f8721d54d",
   "metadata": {},
   "outputs": [
    {
     "data": {
      "text/plain": [
       "9"
      ]
     },
     "execution_count": 18,
     "metadata": {},
     "output_type": "execute_result"
    }
   ],
   "source": [
    "c(4,5) #first object oriented"
   ]
  },
  {
   "cell_type": "code",
   "execution_count": 20,
   "id": "94b61818-9ac7-4b38-b0e0-4db46ba0df9f",
   "metadata": {},
   "outputs": [],
   "source": [
    "def fun(a):\n",
    "    print(a)\n",
    "    "
   ]
  },
  {
   "cell_type": "code",
   "execution_count": 21,
   "id": "927aefff-e49d-435b-8515-9ec6ce1b6b4e",
   "metadata": {},
   "outputs": [
    {
     "name": "stdout",
     "output_type": "stream",
     "text": [
      "hello world\n"
     ]
    }
   ],
   "source": [
    "fun(\"hello world\")"
   ]
  },
  {
   "cell_type": "code",
   "execution_count": 22,
   "id": "91e316d6-3d49-4c26-a9b6-3ad8cb60e82e",
   "metadata": {},
   "outputs": [],
   "source": [
    "#using lamda function: it states that if the body of your function is less then use lamda function \n",
    "#pre defined function in python"
   ]
  },
  {
   "cell_type": "code",
   "execution_count": 24,
   "id": "c32d6203-cc4c-4c2c-a051-31e2e9d94d0c",
   "metadata": {},
   "outputs": [
    {
     "name": "stdout",
     "output_type": "stream",
     "text": [
      "hello world\n"
     ]
    }
   ],
   "source": [
    "fun = lambda a: print(a)\n",
    "fun(\"hello world\")"
   ]
  },
  {
   "cell_type": "code",
   "execution_count": 25,
   "id": "dfd3ecfa-8df2-4837-952f-d8de87ef3c43",
   "metadata": {},
   "outputs": [],
   "source": [
    "#map function"
   ]
  },
  {
   "cell_type": "code",
   "execution_count": 32,
   "id": "777ed7bf-321d-4667-a8ed-09c7708389ef",
   "metadata": {},
   "outputs": [],
   "source": [
    "b= [1,2,3,4,5]\n",
    "\n",
    "def multiply(a):\n",
    "    \n",
    "    return a*2\n",
    "    \n",
    "    "
   ]
  },
  {
   "cell_type": "code",
   "execution_count": 34,
   "id": "de32b61a-91c1-4ecf-8efe-e10edc81f68e",
   "metadata": {},
   "outputs": [
    {
     "data": {
      "text/plain": [
       "[1, 2, 3, 4, 5, 1, 2, 3, 4, 5]"
      ]
     },
     "execution_count": 34,
     "metadata": {},
     "output_type": "execute_result"
    }
   ],
   "source": [
    "multiply(b)"
   ]
  },
  {
   "cell_type": "code",
   "execution_count": 35,
   "id": "e1bcaee9-a8ba-4d13-b631-5c216885d6d8",
   "metadata": {},
   "outputs": [
    {
     "data": {
      "text/plain": [
       "[2, 4, 6, 8, 10]"
      ]
     },
     "execution_count": 35,
     "metadata": {},
     "output_type": "execute_result"
    }
   ],
   "source": [
    "list(map(multiply , b))"
   ]
  },
  {
   "cell_type": "code",
   "execution_count": 36,
   "id": "4e77c1c3-bc19-45c2-acf4-2fd9676cada6",
   "metadata": {},
   "outputs": [],
   "source": [
    "#print square of the number in the list b\n"
   ]
  },
  {
   "cell_type": "code",
   "execution_count": 37,
   "id": "39395d88-4bdc-44e8-8951-61a2055fc885",
   "metadata": {},
   "outputs": [
    {
     "data": {
      "text/plain": [
       "[1, 4, 9, 16, 25]"
      ]
     },
     "execution_count": 37,
     "metadata": {},
     "output_type": "execute_result"
    }
   ],
   "source": [
    "list(map(lambda x: x**2, b))"
   ]
  },
  {
   "cell_type": "code",
   "execution_count": 38,
   "id": "6212bc69-f750-4761-8ef0-32caf3bc180f",
   "metadata": {},
   "outputs": [],
   "source": [
    "# ques: i only want even number\n",
    "\n"
   ]
  },
  {
   "cell_type": "code",
   "execution_count": 6,
   "id": "c44064fe-c9fc-4f1b-80f8-41bfa69e0401",
   "metadata": {},
   "outputs": [],
   "source": [
    "\n",
    "c=[1,2,3,4,5,6,7,8,8,87,56]\n",
    "\n",
    "def iseven(x):\n",
    "    if x % 2 == 0:\n",
    "        return True\n",
    "    else:\n",
    "        return False\n",
    "\n",
    "\n",
    "            "
   ]
  },
  {
   "cell_type": "code",
   "execution_count": 7,
   "id": "d6079ad6-59e5-47de-a2c9-38aa16b1440f",
   "metadata": {},
   "outputs": [
    {
     "data": {
      "text/plain": [
       "[2, 4, 6, 8, 8, 56]"
      ]
     },
     "execution_count": 7,
     "metadata": {},
     "output_type": "execute_result"
    }
   ],
   "source": [
    "list(filter(iseven , c))"
   ]
  },
  {
   "cell_type": "code",
   "execution_count": 9,
   "id": "a55e5187-2e12-43f0-8da8-1272ad2ebb13",
   "metadata": {},
   "outputs": [
    {
     "data": {
      "text/plain": [
       "[2, 4, 6, 8, 8, 56]"
      ]
     },
     "execution_count": 9,
     "metadata": {},
     "output_type": "execute_result"
    }
   ],
   "source": [
    "list(filter(lambda x: x%2 == 0, c))"
   ]
  },
  {
   "cell_type": "code",
   "execution_count": null,
   "id": "32ab4754-c7da-456d-a6d8-b79bcf5a7986",
   "metadata": {},
   "outputs": [],
   "source": []
  }
 ],
 "metadata": {
  "kernelspec": {
   "display_name": "Python 3 (ipykernel)",
   "language": "python",
   "name": "python3"
  },
  "language_info": {
   "codemirror_mode": {
    "name": "ipython",
    "version": 3
   },
   "file_extension": ".py",
   "mimetype": "text/x-python",
   "name": "python",
   "nbconvert_exporter": "python",
   "pygments_lexer": "ipython3",
   "version": "3.12.3"
  }
 },
 "nbformat": 4,
 "nbformat_minor": 5
}
