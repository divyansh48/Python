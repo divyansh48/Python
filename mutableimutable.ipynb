{
 "cells": [
  {
   "cell_type": "code",
   "execution_count": 2,
   "id": "b5e8f3c6-37b8-485c-9f0f-56508d81d0cd",
   "metadata": {},
   "outputs": [],
   "source": [
    "#list\n",
    "#THIS IS THE MUTABLE DATATYPE THIS IS DEFINED BY SQUARE BRACKETS [] "
   ]
  },
  {
   "cell_type": "code",
   "execution_count": 7,
   "id": "f49fd8c5-63c9-4b83-b6cb-17672def35a1",
   "metadata": {},
   "outputs": [],
   "source": [
    "a = [10,20,30,40,50]"
   ]
  },
  {
   "cell_type": "code",
   "execution_count": 8,
   "id": "2d1f6e18-d1e0-4c53-bbc6-08449dce1adf",
   "metadata": {},
   "outputs": [
    {
     "data": {
      "text/plain": [
       "10"
      ]
     },
     "execution_count": 8,
     "metadata": {},
     "output_type": "execute_result"
    }
   ],
   "source": [
    "a[0]\n"
   ]
  },
  {
   "cell_type": "code",
   "execution_count": 9,
   "id": "edb6e3e2-607e-4519-bbf2-4590a962bb40",
   "metadata": {},
   "outputs": [
    {
     "data": {
      "text/plain": [
       "50"
      ]
     },
     "execution_count": 9,
     "metadata": {},
     "output_type": "execute_result"
    }
   ],
   "source": [
    "a[4]\n"
   ]
  },
  {
   "cell_type": "code",
   "execution_count": 10,
   "id": "85dbd348-a8c1-4e83-8985-dc70aa8741d5",
   "metadata": {},
   "outputs": [
    {
     "data": {
      "text/plain": [
       "30"
      ]
     },
     "execution_count": 10,
     "metadata": {},
     "output_type": "execute_result"
    }
   ],
   "source": [
    "a[-3]"
   ]
  },
  {
   "cell_type": "code",
   "execution_count": 19,
   "id": "4b89f3a9-6157-4b5b-85b5-9908a33d821c",
   "metadata": {},
   "outputs": [
    {
     "data": {
      "text/plain": [
       "50"
      ]
     },
     "execution_count": 19,
     "metadata": {},
     "output_type": "execute_result"
    }
   ],
   "source": [
    "a[-1]"
   ]
  },
  {
   "cell_type": "code",
   "execution_count": 23,
   "id": "02031149-f691-4127-b511-f4c40f9bff98",
   "metadata": {},
   "outputs": [],
   "source": [
    "a[0] = 77"
   ]
  },
  {
   "cell_type": "code",
   "execution_count": 24,
   "id": "04e4e5df-2ced-4999-9033-cd8c5e16389b",
   "metadata": {},
   "outputs": [
    {
     "data": {
      "text/plain": [
       "[77, 20, 30, 40, 50]"
      ]
     },
     "execution_count": 24,
     "metadata": {},
     "output_type": "execute_result"
    }
   ],
   "source": [
    "a"
   ]
  },
  {
   "cell_type": "code",
   "execution_count": 26,
   "id": "13d59472-5316-48f0-9926-d646d8781554",
   "metadata": {},
   "outputs": [],
   "source": [
    "a[4] = 52"
   ]
  },
  {
   "cell_type": "code",
   "execution_count": 27,
   "id": "1d770cf3-3159-492a-87b2-c7a3044b5cc5",
   "metadata": {},
   "outputs": [
    {
     "data": {
      "text/plain": [
       "[77, 20, 30, 40, 52]"
      ]
     },
     "execution_count": 27,
     "metadata": {},
     "output_type": "execute_result"
    }
   ],
   "source": [
    "a"
   ]
  },
  {
   "cell_type": "code",
   "execution_count": null,
   "id": "5695fc10-5892-4d36-b42c-a3c720654ed7",
   "metadata": {},
   "outputs": [],
   "source": [
    "a[-2] =8390"
   ]
  },
  {
   "cell_type": "code",
   "execution_count": 28,
   "id": "69613c7e-983c-46a0-9112-06c82cca4d66",
   "metadata": {},
   "outputs": [
    {
     "data": {
      "text/plain": [
       "[77, 20, 30, 40, 52]"
      ]
     },
     "execution_count": 28,
     "metadata": {},
     "output_type": "execute_result"
    }
   ],
   "source": [
    "a"
   ]
  },
  {
   "cell_type": "code",
   "execution_count": null,
   "id": "610a8e4b-3005-46c7-93cb-29fc15fd0b19",
   "metadata": {},
   "outputs": [],
   "source": [
    "#so here we can commit changes because list is mutable"
   ]
  },
  {
   "cell_type": "code",
   "execution_count": null,
   "id": "2d188e8f-aa56-4b2c-9058-29334dfd1cf4",
   "metadata": {},
   "outputs": [],
   "source": []
  },
  {
   "cell_type": "code",
   "execution_count": 21,
   "id": "8893e035-43ac-40ba-a1ef-ef180b338c10",
   "metadata": {},
   "outputs": [],
   "source": []
  },
  {
   "cell_type": "code",
   "execution_count": 20,
   "id": "20e18b9d-c8f0-4d73-be20-6ea99d993aa6",
   "metadata": {},
   "outputs": [],
   "source": [
    "#tuple"
   ]
  },
  {
   "cell_type": "code",
   "execution_count": 13,
   "id": "a6ceffca-4611-4cbd-baaf-8ffcd0b67921",
   "metadata": {},
   "outputs": [],
   "source": [
    "#this is the imutable datatype which is defined by normal brackets ()"
   ]
  },
  {
   "cell_type": "code",
   "execution_count": 14,
   "id": "d1010f30-c142-4752-8857-cc5bbb8b164f",
   "metadata": {},
   "outputs": [],
   "source": [
    "b = (10,20,30,40,50)"
   ]
  },
  {
   "cell_type": "code",
   "execution_count": 15,
   "id": "17837306-0631-4edb-b8f8-54a7a9b5ce1d",
   "metadata": {},
   "outputs": [
    {
     "data": {
      "text/plain": [
       "30"
      ]
     },
     "execution_count": 15,
     "metadata": {},
     "output_type": "execute_result"
    }
   ],
   "source": [
    "b[2]"
   ]
  },
  {
   "cell_type": "code",
   "execution_count": 16,
   "id": "c9dfe954-bf6c-41a7-991e-8ce0cbf6a7ae",
   "metadata": {},
   "outputs": [
    {
     "data": {
      "text/plain": [
       "10"
      ]
     },
     "execution_count": 16,
     "metadata": {},
     "output_type": "execute_result"
    }
   ],
   "source": [
    "b[-5]"
   ]
  },
  {
   "cell_type": "code",
   "execution_count": 17,
   "id": "cc4af791-8b92-4d2f-ab5c-ade28ff9028c",
   "metadata": {},
   "outputs": [
    {
     "data": {
      "text/plain": [
       "50"
      ]
     },
     "execution_count": 17,
     "metadata": {},
     "output_type": "execute_result"
    }
   ],
   "source": [
    "b[-1]"
   ]
  },
  {
   "cell_type": "code",
   "execution_count": 18,
   "id": "05c8c84d-f1e1-4a28-9d53-9997419f5cba",
   "metadata": {},
   "outputs": [],
   "source": [
    "#mutable means changes can be done to the data and imutable means no change can be done in the data "
   ]
  },
  {
   "cell_type": "code",
   "execution_count": 29,
   "id": "c82778d0-954a-4c21-8055-4eedcf24228f",
   "metadata": {},
   "outputs": [
    {
     "ename": "TypeError",
     "evalue": "'tuple' object does not support item assignment",
     "output_type": "error",
     "traceback": [
      "\u001b[1;31m---------------------------------------------------------------------------\u001b[0m",
      "\u001b[1;31mTypeError\u001b[0m                                 Traceback (most recent call last)",
      "Cell \u001b[1;32mIn[29], line 1\u001b[0m\n\u001b[1;32m----> 1\u001b[0m \u001b[43mb\u001b[49m\u001b[43m[\u001b[49m\u001b[38;5;241;43m2\u001b[39;49m\u001b[43m]\u001b[49m \u001b[38;5;241m=\u001b[39m \u001b[38;5;241m88\u001b[39m\n",
      "\u001b[1;31mTypeError\u001b[0m: 'tuple' object does not support item assignment"
     ]
    }
   ],
   "source": [
    "b[2] = 88"
   ]
  },
  {
   "cell_type": "code",
   "execution_count": 30,
   "id": "a9c06398-5473-4bad-a775-9f0a34ce09f4",
   "metadata": {},
   "outputs": [],
   "source": [
    "#this would give erroe because tuple is not mutable "
   ]
  },
  {
   "cell_type": "code",
   "execution_count": 31,
   "id": "d4dab71f-fad8-47cc-9009-ab6806285b36",
   "metadata": {},
   "outputs": [],
   "source": [
    "#dictionary\n",
    "#this is mutable we can commit changes "
   ]
  },
  {
   "cell_type": "code",
   "execution_count": 32,
   "id": "ce7f4d25-c286-43e7-b24f-3872de91f4bc",
   "metadata": {},
   "outputs": [],
   "source": [
    "d = {\n",
    "    \"mango\" : \"king of fruits\",\n",
    "    \"apple\" : \"the red fruit which is sweet in taste\"\n",
    "}"
   ]
  },
  {
   "cell_type": "code",
   "execution_count": 33,
   "id": "09fc2b4f-1a13-4e9b-8077-9f6c3f10e23e",
   "metadata": {},
   "outputs": [
    {
     "data": {
      "text/plain": [
       "{'mango': 'king of fruits', 'apple': 'the red fruit which is sweet in taste'}"
      ]
     },
     "execution_count": 33,
     "metadata": {},
     "output_type": "execute_result"
    }
   ],
   "source": [
    "d"
   ]
  },
  {
   "cell_type": "code",
   "execution_count": 34,
   "id": "0b8576aa-aecb-4057-ada4-d3d2a2bf5395",
   "metadata": {},
   "outputs": [],
   "source": [
    "d[0] = \"raja\""
   ]
  },
  {
   "cell_type": "code",
   "execution_count": 35,
   "id": "3a0a3424-f408-416a-a46b-096e17c55483",
   "metadata": {},
   "outputs": [
    {
     "data": {
      "text/plain": [
       "{'mango': 'king of fruits',\n",
       " 'apple': 'the red fruit which is sweet in taste',\n",
       " 0: 'raja'}"
      ]
     },
     "execution_count": 35,
     "metadata": {},
     "output_type": "execute_result"
    }
   ],
   "source": [
    "d"
   ]
  },
  {
   "cell_type": "code",
   "execution_count": 36,
   "id": "1d77d692-c609-4739-9e25-1a781b1571f9",
   "metadata": {},
   "outputs": [],
   "source": [
    "d[\"mango\"] = \"maharaja\"\n"
   ]
  },
  {
   "cell_type": "code",
   "execution_count": 37,
   "id": "9cb22d27-7f0d-4e06-bed0-6e7121e068d2",
   "metadata": {},
   "outputs": [
    {
     "data": {
      "text/plain": [
       "{'mango': 'maharaja',\n",
       " 'apple': 'the red fruit which is sweet in taste',\n",
       " 0: 'raja'}"
      ]
     },
     "execution_count": 37,
     "metadata": {},
     "output_type": "execute_result"
    }
   ],
   "source": [
    "d"
   ]
  },
  {
   "cell_type": "code",
   "execution_count": 38,
   "id": "30a94cdf-c2d3-4c3e-8229-721a66fb63eb",
   "metadata": {},
   "outputs": [],
   "source": [
    "#this is how we change the data in dictionaries "
   ]
  },
  {
   "cell_type": "code",
   "execution_count": 39,
   "id": "75070e1b-1f64-48e0-a22d-c34553ea8be9",
   "metadata": {},
   "outputs": [],
   "source": [
    "#set\n",
    "#this is mutable type data and this is similar to as we studied in mathematics"
   ]
  },
  {
   "cell_type": "code",
   "execution_count": 40,
   "id": "3a537bee-d141-43e7-b8da-22755ccf8834",
   "metadata": {},
   "outputs": [],
   "source": [
    "s = { 10,20,30,40,50,60}\n"
   ]
  },
  {
   "cell_type": "code",
   "execution_count": 43,
   "id": "36193833-f702-4466-bd43-9d3b3f779ea7",
   "metadata": {},
   "outputs": [],
   "source": [
    "f = { 10, 20,30,30,20,40}"
   ]
  },
  {
   "cell_type": "code",
   "execution_count": 44,
   "id": "5a5a1cd5-5a09-4c44-a9af-f6b566c38606",
   "metadata": {},
   "outputs": [
    {
     "data": {
      "text/plain": [
       "{10, 20, 30, 40}"
      ]
     },
     "execution_count": 44,
     "metadata": {},
     "output_type": "execute_result"
    }
   ],
   "source": [
    "f"
   ]
  },
  {
   "cell_type": "code",
   "execution_count": null,
   "id": "57986bd5-fee7-49d0-adcc-4cccc39a98c3",
   "metadata": {},
   "outputs": [],
   "source": [
    "#the repeted data is printed only once as we have studied in mathematics\n",
    "-----"
   ]
  },
  {
   "cell_type": "code",
   "execution_count": null,
   "id": "632ecb5e-9700-40f4-9524-a7773e21d06d",
   "metadata": {},
   "outputs": [],
   "source": []
  }
 ],
 "metadata": {
  "kernelspec": {
   "display_name": "Python 3 (ipykernel)",
   "language": "python",
   "name": "python3"
  },
  "language_info": {
   "codemirror_mode": {
    "name": "ipython",
    "version": 3
   },
   "file_extension": ".py",
   "mimetype": "text/x-python",
   "name": "python",
   "nbconvert_exporter": "python",
   "pygments_lexer": "ipython3",
   "version": "3.12.3"
  }
 },
 "nbformat": 4,
 "nbformat_minor": 5
}
