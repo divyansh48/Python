{
 "cells": [
  {
   "cell_type": "code",
   "execution_count": 1,
   "id": "2d2efd64-86ff-411a-8f37-1611fb31438e",
   "metadata": {},
   "outputs": [],
   "source": [
    "# break : used to come out of the loop"
   ]
  },
  {
   "cell_type": "code",
   "execution_count": 2,
   "id": "b336fed7-63c7-46aa-aa4f-52eaede7249f",
   "metadata": {},
   "outputs": [
    {
     "data": {
      "text/plain": [
       "[0, 1, 2, 3, 4, 5, 6, 7, 8, 9, 10]"
      ]
     },
     "execution_count": 2,
     "metadata": {},
     "output_type": "execute_result"
    }
   ],
   "source": [
    "a = list(range(0,11))\n",
    "a"
   ]
  },
  {
   "cell_type": "code",
   "execution_count": 5,
   "id": "5e8920aa-f145-4d2a-b106-8510d09ff5bc",
   "metadata": {},
   "outputs": [
    {
     "name": "stdout",
     "output_type": "stream",
     "text": [
      "0 1 2 3 4 5 "
     ]
    }
   ],
   "source": [
    "for i in a:\n",
    "    if i==6:\n",
    "        break\n",
    "    print(i, end=\" \")"
   ]
  },
  {
   "cell_type": "code",
   "execution_count": 6,
   "id": "a2e7072d-5d66-48eb-903c-12b76c2a5ef1",
   "metadata": {},
   "outputs": [],
   "source": [
    "# continue : pass the loop for the condition given above the continue "
   ]
  },
  {
   "cell_type": "code",
   "execution_count": 8,
   "id": "6e772024-7363-44a8-8bd3-9a6c6499eeb7",
   "metadata": {},
   "outputs": [
    {
     "name": "stdout",
     "output_type": "stream",
     "text": [
      "0 1 2 3 4 5 7 8 9 10 "
     ]
    }
   ],
   "source": [
    "for i in a:\n",
    "    if i==6:\n",
    "        continue\n",
    "    print(i, end=\" \")"
   ]
  },
  {
   "cell_type": "code",
   "execution_count": null,
   "id": "f35110b4-6fe9-4be4-98bd-1c84ab0a7706",
   "metadata": {},
   "outputs": [],
   "source": []
  }
 ],
 "metadata": {
  "kernelspec": {
   "display_name": "Python 3 (ipykernel)",
   "language": "python",
   "name": "python3"
  },
  "language_info": {
   "codemirror_mode": {
    "name": "ipython",
    "version": 3
   },
   "file_extension": ".py",
   "mimetype": "text/x-python",
   "name": "python",
   "nbconvert_exporter": "python",
   "pygments_lexer": "ipython3",
   "version": "3.12.3"
  }
 },
 "nbformat": 4,
 "nbformat_minor": 5
}
