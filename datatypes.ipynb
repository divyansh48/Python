{
 "cells": [
  {
   "cell_type": "code",
   "execution_count": null,
   "id": "f1027765-8e98-4d90-8183-9f6d1bb4f2cb",
   "metadata": {},
   "outputs": [],
   "source": []
  },
  {
   "cell_type": "code",
   "execution_count": 1,
   "id": "07142b97-3533-4ad9-ac36-ed54171d20ee",
   "metadata": {},
   "outputs": [],
   "source": [
    "a = 10"
   ]
  },
  {
   "cell_type": "code",
   "execution_count": 2,
   "id": "c8978453-d3ed-459b-ab64-8e3386718e1e",
   "metadata": {},
   "outputs": [
    {
     "data": {
      "text/plain": [
       "10"
      ]
     },
     "execution_count": 2,
     "metadata": {},
     "output_type": "execute_result"
    }
   ],
   "source": [
    "a"
   ]
  },
  {
   "cell_type": "code",
   "execution_count": 3,
   "id": "da0f74ef-5461-47a1-9a6c-6f8f4cfc914f",
   "metadata": {},
   "outputs": [],
   "source": [
    "a = 40 "
   ]
  },
  {
   "cell_type": "code",
   "execution_count": 4,
   "id": "1e212dc3-2637-45c6-9dfc-3eddd4e2813b",
   "metadata": {},
   "outputs": [
    {
     "data": {
      "text/plain": [
       "40"
      ]
     },
     "execution_count": 4,
     "metadata": {},
     "output_type": "execute_result"
    }
   ],
   "source": [
    "a"
   ]
  },
  {
   "cell_type": "code",
   "execution_count": 5,
   "id": "2986bb27-c5ff-45f0-a4a5-4458ef7a2092",
   "metadata": {},
   "outputs": [
    {
     "data": {
      "text/plain": [
       "int"
      ]
     },
     "execution_count": 5,
     "metadata": {},
     "output_type": "execute_result"
    }
   ],
   "source": [
    "type (a)"
   ]
  },
  {
   "cell_type": "code",
   "execution_count": 6,
   "id": "515a289a-7497-4d61-ab22-da905e856525",
   "metadata": {},
   "outputs": [],
   "source": [
    "b = \"divyansh\"\n"
   ]
  },
  {
   "cell_type": "code",
   "execution_count": 7,
   "id": "a9e2cbe6-e104-422d-b235-6e06f0b0601b",
   "metadata": {},
   "outputs": [
    {
     "data": {
      "text/plain": [
       "str"
      ]
     },
     "execution_count": 7,
     "metadata": {},
     "output_type": "execute_result"
    }
   ],
   "source": [
    "type(b)"
   ]
  },
  {
   "cell_type": "code",
   "execution_count": 8,
   "id": "18c10609-83d4-4ded-917e-536c246de187",
   "metadata": {},
   "outputs": [],
   "source": [
    "c = 23.4\n"
   ]
  },
  {
   "cell_type": "code",
   "execution_count": 9,
   "id": "8dddbae6-8059-49e6-b349-d6d6e73f35f6",
   "metadata": {},
   "outputs": [
    {
     "data": {
      "text/plain": [
       "float"
      ]
     },
     "execution_count": 9,
     "metadata": {},
     "output_type": "execute_result"
    }
   ],
   "source": [
    "type (c)"
   ]
  },
  {
   "cell_type": "code",
   "execution_count": 10,
   "id": "125c585b-4e09-44fa-955a-1cafff65220c",
   "metadata": {},
   "outputs": [],
   "source": [
    "#very important \n",
    "a=10"
   ]
  },
  {
   "cell_type": "code",
   "execution_count": 11,
   "id": "a40941f5-9a02-4875-add9-62c41d178337",
   "metadata": {},
   "outputs": [],
   "source": [
    "b=10\n"
   ]
  },
  {
   "cell_type": "code",
   "execution_count": 12,
   "id": "909b7388-ec6e-4c26-b8d4-281643b836b4",
   "metadata": {},
   "outputs": [
    {
     "data": {
      "text/plain": [
       "True"
      ]
     },
     "execution_count": 12,
     "metadata": {},
     "output_type": "execute_result"
    }
   ],
   "source": [
    "a==b"
   ]
  },
  {
   "cell_type": "code",
   "execution_count": 13,
   "id": "711e9d7a-6d53-4a40-ba28-3196ef093014",
   "metadata": {},
   "outputs": [],
   "source": [
    "a = 435364\n",
    "b= 435364"
   ]
  },
  {
   "cell_type": "code",
   "execution_count": 14,
   "id": "45e4e900-da7e-4278-a78a-97c3d66fa5e9",
   "metadata": {},
   "outputs": [
    {
     "data": {
      "text/plain": [
       "False"
      ]
     },
     "execution_count": 14,
     "metadata": {},
     "output_type": "execute_result"
    }
   ],
   "source": [
    "a is b"
   ]
  },
  {
   "cell_type": "code",
   "execution_count": null,
   "id": "dd62225e-e74e-46e3-b543-dad726772456",
   "metadata": {},
   "outputs": [],
   "source": []
  }
 ],
 "metadata": {
  "kernelspec": {
   "display_name": "Python 3 (ipykernel)",
   "language": "python",
   "name": "python3"
  },
  "language_info": {
   "codemirror_mode": {
    "name": "ipython",
    "version": 3
   },
   "file_extension": ".py",
   "mimetype": "text/x-python",
   "name": "python",
   "nbconvert_exporter": "python",
   "pygments_lexer": "ipython3",
   "version": "3.12.3"
  }
 },
 "nbformat": 4,
 "nbformat_minor": 5
}
