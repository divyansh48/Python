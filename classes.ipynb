{
 "cells": [
  {
   "cell_type": "code",
   "execution_count": 3,
   "id": "753f84e3-fbd0-4b91-8e27-8db47c0919e4",
   "metadata": {},
   "outputs": [],
   "source": [
    "class Human :\n",
    "    age =0\n",
    "    name = \"gumnam\"\n",
    "    "
   ]
  },
  {
   "cell_type": "code",
   "execution_count": 4,
   "id": "a85ce3e3-c247-44bb-b750-af27f04fd572",
   "metadata": {},
   "outputs": [
    {
     "data": {
      "text/plain": [
       "0"
      ]
     },
     "execution_count": 4,
     "metadata": {},
     "output_type": "execute_result"
    }
   ],
   "source": [
    "kunal = Human()\n",
    "kunal.age"
   ]
  },
  {
   "cell_type": "code",
   "execution_count": 5,
   "id": "a07a638a-2dd5-4b76-9c6b-1e78783c9be1",
   "metadata": {},
   "outputs": [
    {
     "data": {
      "text/plain": [
       "'gumnam'"
      ]
     },
     "execution_count": 5,
     "metadata": {},
     "output_type": "execute_result"
    }
   ],
   "source": [
    "kunal.name\n"
   ]
  },
  {
   "cell_type": "code",
   "execution_count": 6,
   "id": "a9de898f-838a-40dd-b4d6-189842a16415",
   "metadata": {},
   "outputs": [],
   "source": [
    "kunal.age = 654"
   ]
  },
  {
   "cell_type": "code",
   "execution_count": 8,
   "id": "9ffe14a6-91f3-48f4-88aa-bc967b0d3fa0",
   "metadata": {},
   "outputs": [],
   "source": [
    "kunal.name=\"kunal kushwaha\" "
   ]
  },
  {
   "cell_type": "raw",
   "id": "f1d1bcd0-8f52-46a9-aa34-0692a42eb40b",
   "metadata": {},
   "source": []
  },
  {
   "cell_type": "code",
   "execution_count": 10,
   "id": "cca089aa-d808-42da-a7b7-75af7747e7a3",
   "metadata": {},
   "outputs": [],
   "source": [
    "apporv = Human()\n",
    "apporv.age= 848\n",
    "apporvname = \"apporv goel\""
   ]
  },
  {
   "cell_type": "code",
   "execution_count": 11,
   "id": "0d63ce12-b46a-4bb4-bc5e-adce8c54e459",
   "metadata": {},
   "outputs": [
    {
     "data": {
      "text/plain": [
       "848"
      ]
     },
     "execution_count": 11,
     "metadata": {},
     "output_type": "execute_result"
    }
   ],
   "source": [
    "apporv.age"
   ]
  },
  {
   "cell_type": "markdown",
   "id": "bdc3ca3c-6db9-443d-a0b4-407b961695d4",
   "metadata": {},
   "source": [
    "\n"
   ]
  },
  {
   "cell_type": "raw",
   "id": "cb196232-601b-4b26-b56f-31c4d7e6febc",
   "metadata": {},
   "source": []
  },
  {
   "cell_type": "raw",
   "id": "57527673-36cd-44b2-ba33-9dc14f2b9aeb",
   "metadata": {},
   "source": []
  },
  {
   "cell_type": "code",
   "execution_count": 12,
   "id": "2c4fbba7-ab74-43c0-aee3-0842e1d8d8eb",
   "metadata": {},
   "outputs": [
    {
     "data": {
      "text/plain": [
       "'kunal kushwaha'"
      ]
     },
     "execution_count": 12,
     "metadata": {},
     "output_type": "execute_result"
    }
   ],
   "source": [
    "kunal.name"
   ]
  },
  {
   "cell_type": "code",
   "execution_count": 13,
   "id": "2c2a11ab-c3e4-4e05-8dc6-317757beb848",
   "metadata": {},
   "outputs": [
    {
     "data": {
      "text/plain": [
       "654"
      ]
     },
     "execution_count": 13,
     "metadata": {},
     "output_type": "execute_result"
    }
   ],
   "source": [
    "kunal.age"
   ]
  },
  {
   "cell_type": "code",
   "execution_count": 14,
   "id": "153f4ccf-da9d-4635-add0-65f2e9294c1a",
   "metadata": {},
   "outputs": [
    {
     "data": {
      "text/plain": [
       "'gumnam'"
      ]
     },
     "execution_count": 14,
     "metadata": {},
     "output_type": "execute_result"
    }
   ],
   "source": [
    "apporv.name"
   ]
  },
  {
   "cell_type": "code",
   "execution_count": 15,
   "id": "ca4a392f-f70e-4720-b141-7864134d1e46",
   "metadata": {},
   "outputs": [
    {
     "data": {
      "text/plain": [
       "848"
      ]
     },
     "execution_count": 15,
     "metadata": {},
     "output_type": "execute_result"
    }
   ],
   "source": [
    "apporv.age"
   ]
  },
  {
   "cell_type": "code",
   "execution_count": null,
   "id": "330fcada-8184-4c1a-83c5-0afe74cc9125",
   "metadata": {},
   "outputs": [],
   "source": [
    "|"
   ]
  }
 ],
 "metadata": {
  "kernelspec": {
   "display_name": "Python 3 (ipykernel)",
   "language": "python",
   "name": "python3"
  },
  "language_info": {
   "codemirror_mode": {
    "name": "ipython",
    "version": 3
   },
   "file_extension": ".py",
   "mimetype": "text/x-python",
   "name": "python",
   "nbconvert_exporter": "python",
   "pygments_lexer": "ipython3",
   "version": "3.12.3"
  }
 },
 "nbformat": 4,
 "nbformat_minor": 5
}
