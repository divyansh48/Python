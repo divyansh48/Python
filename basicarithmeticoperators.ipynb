{
 "cells": [
  {
   "cell_type": "code",
   "execution_count": 1,
   "id": "0a2dd75e-061a-4820-9090-32590a5d2742",
   "metadata": {},
   "outputs": [
    {
     "data": {
      "text/plain": [
       "30"
      ]
     },
     "execution_count": 1,
     "metadata": {},
     "output_type": "execute_result"
    }
   ],
   "source": [
    "a=10\n",
    "b=20\n",
    "a+b\n",
    "#addition"
   ]
  },
  {
   "cell_type": "code",
   "execution_count": 2,
   "id": "1fb17519-af06-42c6-ba2a-a5386ee98469",
   "metadata": {},
   "outputs": [
    {
     "data": {
      "text/plain": [
       "0.5"
      ]
     },
     "execution_count": 2,
     "metadata": {},
     "output_type": "execute_result"
    }
   ],
   "source": [
    "a/b\n",
    "#division"
   ]
  },
  {
   "cell_type": "code",
   "execution_count": 3,
   "id": "16d6273c-d37b-44c8-8ec0-7e41c83888f9",
   "metadata": {},
   "outputs": [
    {
     "data": {
      "text/plain": [
       "0"
      ]
     },
     "execution_count": 3,
     "metadata": {},
     "output_type": "execute_result"
    }
   ],
   "source": [
    "a//b\n",
    "#floar"
   ]
  },
  {
   "cell_type": "code",
   "execution_count": 6,
   "id": "4d57b042-a2a5-45fb-9911-88c37958eb05",
   "metadata": {},
   "outputs": [
    {
     "data": {
      "text/plain": [
       "200"
      ]
     },
     "execution_count": 6,
     "metadata": {},
     "output_type": "execute_result"
    }
   ],
   "source": [
    "a*b \n",
    "#multiplication"
   ]
  },
  {
   "cell_type": "code",
   "execution_count": 5,
   "id": "ab45add6-9f48-41ec-b896-ed924c6e3a1c",
   "metadata": {},
   "outputs": [
    {
     "data": {
      "text/plain": [
       "100000000000000000000"
      ]
     },
     "execution_count": 5,
     "metadata": {},
     "output_type": "execute_result"
    }
   ],
   "source": [
    "a**b\n",
    "#power"
   ]
  },
  {
   "cell_type": "code",
   "execution_count": 7,
   "id": "8bfdce3c-0d7d-432f-a31f-4b51f4159d8f",
   "metadata": {},
   "outputs": [
    {
     "data": {
      "text/plain": [
       "-10"
      ]
     },
     "execution_count": 7,
     "metadata": {},
     "output_type": "execute_result"
    }
   ],
   "source": [
    "a-b\n",
    "#subtraction"
   ]
  },
  {
   "cell_type": "code",
   "execution_count": 8,
   "id": "cb274d11-e466-43db-8a3a-c1896e5b2f6a",
   "metadata": {},
   "outputs": [
    {
     "data": {
      "text/plain": [
       "0"
      ]
     },
     "execution_count": 8,
     "metadata": {},
     "output_type": "execute_result"
    }
   ],
   "source": [
    "b%a\n",
    "#modulo"
   ]
  },
  {
   "cell_type": "code",
   "execution_count": 9,
   "id": "e3afa7f8-10dd-4c95-80f0-11dc45f0d040",
   "metadata": {},
   "outputs": [],
   "source": [
    "a=10"
   ]
  },
  {
   "cell_type": "code",
   "execution_count": 10,
   "id": "1ef41dd6-eca6-400d-aa30-bf3695e2434b",
   "metadata": {},
   "outputs": [],
   "source": [
    "b=\"divyansh\""
   ]
  },
  {
   "cell_type": "code",
   "execution_count": 11,
   "id": "165072e3-60ae-4746-b064-2d6284e14619",
   "metadata": {},
   "outputs": [
    {
     "ename": "TypeError",
     "evalue": "unsupported operand type(s) for +: 'int' and 'str'",
     "output_type": "error",
     "traceback": [
      "\u001b[1;31m---------------------------------------------------------------------------\u001b[0m",
      "\u001b[1;31mTypeError\u001b[0m                                 Traceback (most recent call last)",
      "Cell \u001b[1;32mIn[11], line 1\u001b[0m\n\u001b[1;32m----> 1\u001b[0m \u001b[43ma\u001b[49m\u001b[38;5;241;43m+\u001b[39;49m\u001b[43mb\u001b[49m\n",
      "\u001b[1;31mTypeError\u001b[0m: unsupported operand type(s) for +: 'int' and 'str'"
     ]
    }
   ],
   "source": [
    "a+b\n",
    "#this will give error because a is int and b is string so cannot added"
   ]
  },
  {
   "cell_type": "code",
   "execution_count": null,
   "id": "d9dfef57-4e99-47eb-a31c-3b27cfb0317b",
   "metadata": {},
   "outputs": [],
   "source": []
  }
 ],
 "metadata": {
  "kernelspec": {
   "display_name": "Python 3 (ipykernel)",
   "language": "python",
   "name": "python3"
  },
  "language_info": {
   "codemirror_mode": {
    "name": "ipython",
    "version": 3
   },
   "file_extension": ".py",
   "mimetype": "text/x-python",
   "name": "python",
   "nbconvert_exporter": "python",
   "pygments_lexer": "ipython3",
   "version": "3.12.3"
  }
 },
 "nbformat": 4,
 "nbformat_minor": 5
}
